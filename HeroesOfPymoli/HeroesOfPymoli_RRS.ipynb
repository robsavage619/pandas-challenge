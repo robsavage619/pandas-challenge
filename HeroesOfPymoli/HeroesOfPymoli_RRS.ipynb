{
 "cells": [
  {
   "cell_type": "markdown",
   "metadata": {},
   "source": [
    "### Note\n",
    "* Instructions have been included for each segment. You do not have to follow them exactly, but they are included to help you think through the steps."
   ]
  },
  {
   "cell_type": "code",
   "execution_count": null,
   "metadata": {},
   "outputs": [],
   "source": [
    "# Dependencies and Setup\n",
    "import pandas as pd\n",
    "import numpy as np\n",
    "\n",
    "# File to Load (Remember to Change These)\n",
    "data_file_path = \"Resources/purchase_data.csv\"\n",
    "\n",
    "# Read Purchasing File and store into Pandas data frame\n",
    "pymoli_df = pd.read_csv(data_file_path)\n",
    "pymoli_df.head(100)"
   ]
  },
  {
   "cell_type": "markdown",
   "metadata": {},
   "source": [
    "## Player Count"
   ]
  },
  {
   "cell_type": "markdown",
   "metadata": {},
   "source": [
    "* Display the total number of players\n"
   ]
  },
  {
   "cell_type": "code",
   "execution_count": null,
   "metadata": {},
   "outputs": [],
   "source": [
    "# Using the screen name as a tool, finding the count on unique names\n",
    "\n",
    "player_count = len(pymoli_df[\"SN\"].unique())\n",
    "total_player_df = pd.DataFrame({\"Total Players\": [player_count]})\n",
    "total_player_df"
   ]
  },
  {
   "cell_type": "markdown",
   "metadata": {},
   "source": [
    "## Purchasing Analysis (Total)"
   ]
  },
  {
   "cell_type": "markdown",
   "metadata": {},
   "source": [
    "* Run basic calculations to obtain number of unique items, average price, etc.\n",
    "\n",
    "\n",
    "* Create a summary data frame to hold the results\n",
    "\n",
    "\n",
    "* Optional: give the displayed data cleaner formatting\n",
    "\n",
    "\n",
    "* Display the summary data frame\n"
   ]
  },
  {
   "cell_type": "code",
   "execution_count": null,
   "metadata": {
    "scrolled": true
   },
   "outputs": [],
   "source": [
    "# Running basic calculations \n",
    "item_count = len(pymoli_df[\"Item ID\"].unique())\n",
    "avg_price = pymoli_df[[\"Price\"]].mean().round(2)\n",
    "total_purchases = len(pymoli_df[\"Item ID\"])\n",
    "total_rev = sum(pymoli_df[\"Price\"])\n",
    "\n",
    "# Creating the data frame\n",
    "purchase_analysis_df = pd.DataFrame({\"Number of Unique Items\": [item_count], \n",
    "                                           \"Average Price\": avg_price, \n",
    "                                           \"Number of Purchases\": total_purchases,\n",
    "                                           \"Total Revenue\": total_rev})\n",
    "\n",
    "# Formatting the columns \n",
    "purchase_analysis_df[\"Average Price\"] = purchase_analysis_df[\"Average Price\"].astype(float).map(\"${:,.2f}\".format)\n",
    "purchase_analysis_df[\"Total Revenue\"] = purchase_analysis_df[\"Total Revenue\"].astype(float).map(\"${:,.2f}\".format)\n",
    "purchase_analysis_df"
   ]
  },
  {
   "cell_type": "markdown",
   "metadata": {},
   "source": [
    "## Gender Demographics"
   ]
  },
  {
   "cell_type": "markdown",
   "metadata": {},
   "source": [
    "* Percentage and Count of Male Players\n",
    "\n",
    "\n",
    "* Percentage and Count of Female Players\n",
    "\n",
    "\n",
    "* Percentage and Count of Other / Non-Disclosed\n",
    "\n",
    "\n"
   ]
  },
  {
   "cell_type": "code",
   "execution_count": null,
   "metadata": {
    "scrolled": true
   },
   "outputs": [],
   "source": [
    "# Establishing a variable to perform counts against another column\n",
    "total_count = pymoli_df.groupby('Gender')\n",
    "unique_count = total_count['SN'].nunique()\n",
    "gender_percent = pymoli_df['Gender'].value_counts(normalize=True)\n",
    "\n",
    "# Creating a data frame\n",
    "gender_demo_df = pd.DataFrame({'Total Count': unique_count, \n",
    "                              'Percentage of Players': gender_percent})\n",
    "\n",
    "# Formatting columns\n",
    "gender_demo_df['Percentage of Players'] = gender_demo_df['Percentage of Players'].astype(float).map(\"{:,.2%}\".format)\n",
    "gender_demo_df.head()"
   ]
  },
  {
   "cell_type": "markdown",
   "metadata": {},
   "source": [
    "\n",
    "## Purchasing Analysis (Gender)"
   ]
  },
  {
   "cell_type": "markdown",
   "metadata": {},
   "source": [
    "* Run basic calculations to obtain purchase count, avg. purchase price, avg. purchase total per person etc. by gender\n",
    "\n",
    "\n",
    "\n",
    "\n",
    "* Create a summary data frame to hold the results\n",
    "\n",
    "\n",
    "* Optional: give the displayed data cleaner formatting\n",
    "\n",
    "\n",
    "* Display the summary data frame"
   ]
  },
  {
   "cell_type": "code",
   "execution_count": null,
   "metadata": {},
   "outputs": [],
   "source": [
    "# Gender Count\n",
    "gender = pymoli_df.groupby(['Gender'])\n",
    "\n",
    "# Finding the totals for the other categories\n",
    "avg_pur = gender['Price'].mean()\n",
    "total_pur = gender['Price'].sum()\n",
    "unique_pur_count = gender['SN'].count()\n",
    "unique_gender = gender['SN'].nunique()\n",
    "avg_total_pur = (gender['Price'].sum() / unique_gender)\n",
    "\n",
    "# Creating the Data Frame\n",
    "pur_analysis_df = pd.DataFrame({'Purchase Count': unique_pur_count,\n",
    "                                'Average Purchase Price': avg_pur,\n",
    "                                'Total Purchase Value': total_pur,\n",
    "                                'Avg Total Purchase per Person': avg_total_pur})\n",
    "\n",
    "# Formatting\n",
    "pur_analysis_df['Avg Total Purchase per Person'] = pur_analysis_df['Avg Total Purchase per Person'].astype(float).map(\"${:,.2f}\".format)\n",
    "pur_analysis_df['Average Purchase Price'] = pur_analysis_df['Average Purchase Price'].astype(float).map(\"${:,.2f}\".format)\n",
    "pur_analysis_df['Total Purchase Value'] = pur_analysis_df['Total Purchase Value'].astype(float).map(\"${:,.2f}\".format)\n",
    "\n",
    "pur_analysis_df.head()"
   ]
  },
  {
   "cell_type": "markdown",
   "metadata": {},
   "source": [
    "## Age Demographics"
   ]
  },
  {
   "cell_type": "markdown",
   "metadata": {},
   "source": [
    "* Establish bins for ages\n",
    "\n",
    "\n",
    "* Categorize the existing players using the age bins. Hint: use pd.cut()\n",
    "\n",
    "\n",
    "* Calculate the numbers and percentages by age group\n",
    "\n",
    "\n",
    "* Create a summary data frame to hold the results\n",
    "\n",
    "\n",
    "* Optional: round the percentage column to two decimal points\n",
    "\n",
    "\n",
    "* Display Age Demographics Table\n"
   ]
  },
  {
   "cell_type": "code",
   "execution_count": null,
   "metadata": {},
   "outputs": [],
   "source": [
    "# Finding out the min and max ages for the data file\n",
    "\n",
    "#print(pymoli_df[\"Age\"].max())\n",
    "#print(pymoli_df[\"Age\"].min())\n",
    "\n",
    "# Creating bins\n",
    "bins = [0, 9, 14, 19, 24, 29, 34, 39, 46]\n",
    "\n",
    "# Assigning and labeling those bins\n",
    "group_labels = ['<10', '10-14', '15-19', '20-24', '25-29', '30-34', '35-39', '40+']\n",
    "pd.cut(pymoli_df['Age'], bins, labels=group_labels)\n",
    "\n",
    "# Creating a column to manipulate the data inside\n",
    "pymoli_df[\"Age Group\"] = pd.cut(pymoli_df['Age'], bins, labels=group_labels)\n",
    "\n",
    "# Defining variables to use in formulas\n",
    "age_group = pymoli_df.groupby('Age Group')\n",
    "unique_age_group = age_group['SN'].nunique() \n",
    "\n",
    "# Hard coding total unique players to use against my list\n",
    "total_players = 576\n",
    "age_percent = [x / total_players for x in unique_age_group]\n",
    "\n",
    "# Creating the Data Frame\n",
    "age_demo_df = pd.DataFrame({'Total Count': unique_age_group, \"Percentage of Players\": age_percent })\n",
    "\n",
    "#Formatting\n",
    "age_demo_df['Percentage of Players'] = age_demo_df['Percentage of Players'].astype(float).map(\"{:,.2%}\".format)\n",
    "\n",
    "age_demo_df"
   ]
  },
  {
   "cell_type": "markdown",
   "metadata": {},
   "source": [
    "## Purchasing Analysis (Age)"
   ]
  },
  {
   "cell_type": "markdown",
   "metadata": {},
   "source": [
    "* Bin the purchase_data data frame by age\n",
    "\n",
    "\n",
    "* Run basic calculations to obtain purchase count, avg. purchase price, avg. purchase total per person etc. in the table below\n",
    "\n",
    "\n",
    "* Create a summary data frame to hold the results\n",
    "\n",
    "\n",
    "* Optional: give the displayed data cleaner formatting\n",
    "\n",
    "\n",
    "* Display the summary data frame"
   ]
  },
  {
   "cell_type": "code",
   "execution_count": null,
   "metadata": {},
   "outputs": [],
   "source": [
    "# Creating bins\n",
    "bins = [0, 9, 14, 19, 24, 29, 34, 39, 46]\n",
    "\n",
    "# Assigning and labeling those bins\n",
    "group_labels = ['<10', '10-14', '15-19', '20-24', '25-29', '30-34', '35-39', '40+']\n",
    "pd.cut(pymoli_df['Age'], bins, labels=group_labels)\n",
    "\n",
    "# Creating a column to manipulate the data inside\n",
    "pymoli_df[\"Age Group\"] = pd.cut(pymoli_df['Age'], bins, labels=group_labels)\n",
    "\n",
    "# Defining variables to use in formulas\n",
    "age_group = pymoli_df.groupby('Age Group')\n",
    "unique_age_group = age_group['SN'].nunique() \n",
    "\n",
    "# Basic calculations/replicating the formulas from Purchasing Analysis (Gender)\n",
    "purchase_count = age_group['Age'].count()\n",
    "average_purchase = age_group['Price'].mean()\n",
    "total_purchase_value = age_group['Price'].sum()\n",
    "average_purchase_person = (age_group['Price'].sum()/unique_age_group)\n",
    "\n",
    "# Create Data Frames\n",
    "purchase_analysis__age_df = pd.DataFrame({'Purchase Count': purchase_count,\n",
    "                                'Average Purchase Price': average_purchase,\n",
    "                                'Total Purchase Value': total_purchase_value,\n",
    "                                'Avg Total Purchase per Person': average_purchase_person})\n",
    "\n",
    "# Formatting\n",
    "purchase_analysis__age_df['Avg Total Purchase per Person'] = purchase_analysis__age_df['Avg Total Purchase per Person'].astype(float).map(\"${:,.2f}\".format)\n",
    "purchase_analysis__age_df['Average Purchase Price'] = purchase_analysis__age_df['Average Purchase Price'].astype(float).map(\"${:,.2f}\".format)\n",
    "purchase_analysis__age_df['Total Purchase Value'] = purchase_analysis__age_df['Total Purchase Value'].astype(float).map(\"${:,.2f}\".format)\n",
    "\n",
    "purchase_analysis__age_df"
   ]
  },
  {
   "cell_type": "markdown",
   "metadata": {},
   "source": [
    "## Top Spenders"
   ]
  },
  {
   "cell_type": "markdown",
   "metadata": {},
   "source": [
    "* Run basic calculations to obtain the results in the table below\n",
    "\n",
    "\n",
    "* Create a summary data frame to hold the results\n",
    "\n",
    "\n",
    "* Sort the total purchase value column in descending order\n",
    "\n",
    "\n",
    "* Optional: give the displayed data cleaner formatting\n",
    "\n",
    "\n",
    "* Display a preview of the summary data frame\n",
    "\n"
   ]
  },
  {
   "cell_type": "code",
   "execution_count": null,
   "metadata": {},
   "outputs": [],
   "source": [
    "# Creating a variable to manipulate\n",
    "SN_group = pymoli_df.groupby('SN')\n",
    "\n",
    "# Do calculations on group\n",
    "SN_count = SN_group['Age'].count()\n",
    "SN_purchase = SN_group['Price'].mean()\n",
    "SN_total_purchase = SN_group['Price'].sum()\n",
    "\n",
    "# Create the data frame\n",
    "SN_df = pd.DataFrame({'Purchase Count': SN_count,\n",
    "                                'Average Purchase Price': SN_purchase,\n",
    "                                'Total Purchase Value': SN_total_purchase})\n",
    "# Formatting\n",
    "SN_df['Average Purchase Price'] = SN_df['Average Purchase Price'].astype(float).map(\"${:,.2f}\".format)\n",
    "SN_df['Total Purchase Value'] = SN_df['Total Purchase Value'].astype(float).map(\"${:,.2f}\".format)\n",
    "\n",
    "SN_df"
   ]
  },
  {
   "cell_type": "markdown",
   "metadata": {},
   "source": [
    "## Most Popular Items"
   ]
  },
  {
   "cell_type": "markdown",
   "metadata": {},
   "source": [
    "* Retrieve the Item ID, Item Name, and Item Price columns\n",
    "\n",
    "\n",
    "* Group by Item ID and Item Name. Perform calculations to obtain purchase count, item price, and total purchase value\n",
    "\n",
    "\n",
    "* Create a summary data frame to hold the results\n",
    "\n",
    "\n",
    "* Sort the purchase count column in descending order\n",
    "\n",
    "\n",
    "* Optional: give the displayed data cleaner formatting\n",
    "\n",
    "\n",
    "* Display a preview of the summary data frame\n",
    "\n"
   ]
  },
  {
   "cell_type": "code",
   "execution_count": null,
   "metadata": {},
   "outputs": [],
   "source": [
    "# Grabbing the appropriate columns\n",
    "most_pop_df = pymoli_df.loc[:, ['Item ID', 'Item Name', 'Price']]\n",
    "\n",
    "# Grouping the data frame by the Item ID and Item Name so they're constantly visible together\n",
    "pop_group = pymoli_df.groupby(['Item ID', 'Item Name'])\n",
    "\n",
    "#Same calculations we did in previous excercises\n",
    "pop_count = pop_group['Age'].count()\n",
    "pop_purchase = pop_group['Price'].mean()\n",
    "pop_total_purchase = pop_group['Price'].sum()\n",
    "\n",
    "most_pop_df = pd.DataFrame({'Purchase Count': pop_count,\n",
    "                                'Item Price': pop_purchase,\n",
    "                                'Total Purchase Value': pop_total_purchase})\n",
    "# Formatting\n",
    "most_pop_df['Item Price'] = most_pop_df['Item Price'].astype(float).map(\"${:,.2f}\".format)\n",
    "most_pop_df['Total Purchase Value'] = most_pop_df['Total Purchase Value'].astype(float).map(\"${:,.2f}\".format)\n",
    "\n",
    "most_pop_df"
   ]
  },
  {
   "cell_type": "markdown",
   "metadata": {},
   "source": [
    "## Most Profitable Items"
   ]
  },
  {
   "cell_type": "markdown",
   "metadata": {},
   "source": [
    "* Sort the above table by total purchase value in descending order\n",
    "\n",
    "\n",
    "* Optional: give the displayed data cleaner formatting\n",
    "\n",
    "\n",
    "* Display a preview of the data frame\n",
    "\n"
   ]
  },
  {
   "cell_type": "code",
   "execution_count": null,
   "metadata": {
    "scrolled": true
   },
   "outputs": [],
   "source": [
    "most_profit_df = most_pop_df.sort_values(\"Total Purchase Value\", ascending=False)\n",
    "most_profit_df.head()"
   ]
  },
  {
   "cell_type": "code",
   "execution_count": null,
   "metadata": {},
   "outputs": [],
   "source": []
  }
 ],
 "metadata": {
  "anaconda-cloud": {},
  "kernel_info": {
   "name": "python3"
  },
  "kernelspec": {
   "display_name": "Python 3",
   "language": "python",
   "name": "python3"
  },
  "language_info": {
   "codemirror_mode": {
    "name": "ipython",
    "version": 3
   },
   "file_extension": ".py",
   "mimetype": "text/x-python",
   "name": "python",
   "nbconvert_exporter": "python",
   "pygments_lexer": "ipython3",
   "version": "3.6.10"
  },
  "latex_envs": {
   "LaTeX_envs_menu_present": true,
   "autoclose": false,
   "autocomplete": true,
   "bibliofile": "biblio.bib",
   "cite_by": "apalike",
   "current_citInitial": 1,
   "eqLabelWithNumbers": true,
   "eqNumInitial": 1,
   "hotkeys": {
    "equation": "Ctrl-E",
    "itemize": "Ctrl-I"
   },
   "labels_anchors": false,
   "latex_user_defs": false,
   "report_style_numbering": false,
   "user_envs_cfg": false
  },
  "nteract": {
   "version": "0.2.0"
  }
 },
 "nbformat": 4,
 "nbformat_minor": 2
}
